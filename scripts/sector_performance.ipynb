{
 "cells": [
  {
   "cell_type": "code",
   "execution_count": 5,
   "id": "23e4f9b2",
   "metadata": {},
   "outputs": [
    {
     "name": "stdout",
     "output_type": "stream",
     "text": [
      "AAPL.csv: 0.009525357583412082\n",
      "AMZN.csv: 0.0013485394189385422\n",
      "GOOG.csv: 0.005540278101855047\n",
      "MSFT.csv: 0.007368171007368539\n"
     ]
    }
   ],
   "source": [
    "import pandas as pd\n",
    "import os\n",
    "\n",
    "def calculate_sector_performance(data_path):\n",
    "    sector_files = [f for f in os.listdir(data_path) if f.endswith('.csv')]\n",
    "    sector_performance = {}\n",
    "\n",
    "    for file in sector_files:\n",
    "        df = pd.read_csv(os.path.join(data_path, file), index_col='Date', parse_dates=True)\n",
    "        df['Returns'] = df['Close'].pct_change()\n",
    "        bi_weekly_returns = df['Returns'].resample('2W').sum()\n",
    "        sector_performance[file] = bi_weekly_returns.mean()\n",
    "\n",
    "    return sector_performance\n",
    "\n",
    "if __name__ == \"__main__\":\n",
    "    data_path = \"C:/Users/Alok verma/Desktop/my_trading_bot/scripts/data/\"\n",
    "    performance = calculate_sector_performance(data_path)\n",
    "    for sector, perf in performance.items():\n",
    "        print(f\"{sector}: {perf}\")\n"
   ]
  },
  {
   "cell_type": "code",
   "execution_count": null,
   "id": "d5639bc6",
   "metadata": {},
   "outputs": [],
   "source": []
  }
 ],
 "metadata": {
  "kernelspec": {
   "display_name": "Python 3 (ipykernel)",
   "language": "python",
   "name": "python3"
  },
  "language_info": {
   "codemirror_mode": {
    "name": "ipython",
    "version": 3
   },
   "file_extension": ".py",
   "mimetype": "text/x-python",
   "name": "python",
   "nbconvert_exporter": "python",
   "pygments_lexer": "ipython3",
   "version": "3.11.5"
  }
 },
 "nbformat": 4,
 "nbformat_minor": 5
}
