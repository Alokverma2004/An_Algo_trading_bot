{
 "cells": [
  {
   "cell_type": "code",
   "execution_count": 3,
   "id": "4d0bf5be",
   "metadata": {},
   "outputs": [
    {
     "name": "stderr",
     "output_type": "stream",
     "text": [
      "[*********************100%%**********************]  1 of 1 completed\n",
      "[*********************100%%**********************]  1 of 1 completed\n",
      "[*********************100%%**********************]  1 of 1 completed\n",
      "[*********************100%%**********************]  1 of 1 completed\n"
     ]
    }
   ],
   "source": [
    "import yfinance as yf\n",
    "import os\n",
    "\n",
    "def fetch_data(ticker, start, end, save_path):\n",
    "    \"\"\"\n",
    "    Fetch historical data for a given ticker from Yahoo Finance and save it as a CSV file.\n",
    "\n",
    "    Args:\n",
    "    ticker (str): The stock ticker symbol.\n",
    "    start (str): The start date in 'YYYY-MM-DD' format.\n",
    "    end (str): The end date in 'YYYY-MM-DD' format.\n",
    "    save_path (str): The directory where the CSV file will be saved.\n",
    "    \"\"\"\n",
    "    # Download the historical data for the given ticker\n",
    "    data = yf.download(ticker, start=start, end=end)\n",
    "    # Create the directory if it does not exist\n",
    "    os.makedirs(save_path, exist_ok=True)\n",
    "    # Save the data as a CSV file in the specified path\n",
    "    data.to_csv(os.path.join(save_path, f\"{ticker}.csv\"))\n",
    "\n",
    "if __name__ == \"__main__\":\n",
    "    # List of example tickers to fetch data for\n",
    "    tickers = [\"AAPL\", \"MSFT\", \"GOOG\", \"AMZN\"]\n",
    "    # Define the date range for the data\n",
    "    start_date = \"2020-01-01\"\n",
    "    end_date = \"2023-01-01\"\n",
    "    # Specify the directory to save the data\n",
    "    save_path = \"data/\"\n",
    "    # Fetch and save data for each ticker\n",
    "    for ticker in tickers:\n",
    "        fetch_data(ticker, start_date, end_date, save_path)\n"
   ]
  },
  {
   "cell_type": "code",
   "execution_count": null,
   "id": "435587bd",
   "metadata": {},
   "outputs": [],
   "source": []
  }
 ],
 "metadata": {
  "kernelspec": {
   "display_name": "Python 3 (ipykernel)",
   "language": "python",
   "name": "python3"
  },
  "language_info": {
   "codemirror_mode": {
    "name": "ipython",
    "version": 3
   },
   "file_extension": ".py",
   "mimetype": "text/x-python",
   "name": "python",
   "nbconvert_exporter": "python",
   "pygments_lexer": "ipython3",
   "version": "3.11.5"
  }
 },
 "nbformat": 4,
 "nbformat_minor": 5
}
