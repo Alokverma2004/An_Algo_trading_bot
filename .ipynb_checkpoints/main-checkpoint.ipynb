{
 "cells": [
  {
   "cell_type": "code",
   "execution_count": 14,
   "id": "ac11d1ed",
   "metadata": {},
   "outputs": [],
   "source": [
    "import os\n",
    "\n",
    "os.chdir('C:/Users/Alok verma/Desktop/my_trading_bot')  "
   ]
  },
  {
   "cell_type": "code",
   "execution_count": 15,
   "id": "a0a27ebf",
   "metadata": {},
   "outputs": [],
   "source": [
    "import sys\n",
    "h\n",
    "sys.path.append(os.getcwd())"
   ]
  },
  {
   "cell_type": "code",
   "execution_count": null,
   "id": "5ed7b0c2",
   "metadata": {},
   "outputs": [],
   "source": [
    "import os\n",
    "import pandas as pd\n",
    "import matplotlib.pyplot as plt\n",
    "\n",
    "from scripts.fetch_data import fetch_data\n",
    "from scripts.sector_rotation_strategy import run_backtest\n",
    "from scripts.sector_performance import calculate_sector_performance\n",
    "\n",
    "def display_data(file_path):\n",
    "    df = pd.read_csv(file_path, index_col=\"Date\", parse_dates=True)\n",
    "    df['Close'].plot(title=file_path.split('/')[-1])\n",
    "    plt.show()\n",
    "\n",
    "def main():\n",
    "    tickers = [\"AAPL\", \"MSFT\", \"GOOG\", \"AMZN\"]\n",
    "    start_date = \"2020-01-01\"\n",
    "    end_date = \"2023-01-01\"\n",
    "    save_path = \"data/\"\n",
    "    os.makedirs(save_path, exist_ok=True)\n",
    "    for ticker in tickers:\n",
    "        fetch_data(ticker, start_date, end_date, save_path)\n",
    "\n",
    "    datafile = \"C:/Users/Alok verma/Desktop/my_trading_bot/scripts/data/AAPL.csv\"\n",
    "    display_data(datafile)\n",
    "\n",
    "    run_backtest(datafile)\n",
    "\n",
    "    performance = calculate_sector_performance(save_path)\n",
    "    for sector, stats in performance.items():\n",
    "        print(f\"{sector}: Mean Return: {stats['mean_return']}, Volatility: {stats['volatility']}, Total Return: {stats['total_return']}\")\n",
    "\n",
    "if __name__ == \"__main__\":\n",
    "    main()\n"
   ]
  }
 ],
 "metadata": {
  "kernelspec": {
   "display_name": "Python 3 (ipykernel)",
   "language": "python",
   "name": "python3"
  },
  "language_info": {
   "codemirror_mode": {
    "name": "ipython",
    "version": 3
   },
   "file_extension": ".py",
   "mimetype": "text/x-python",
   "name": "python",
   "nbconvert_exporter": "python",
   "pygments_lexer": "ipython3",
   "version": "3.11.5"
  }
 },
 "nbformat": 4,
 "nbformat_minor": 5
}
